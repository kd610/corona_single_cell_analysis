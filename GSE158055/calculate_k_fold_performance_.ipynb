{
 "cells": [
  {
   "attachments": {},
   "cell_type": "markdown",
   "metadata": {},
   "source": [
    "# Calculate the models performance in k-fold cross validation\n",
    "\n",
    "Due to crashes of processes caused by memory limitations, this notebook stores results from all scenarios and subsequently derives the final outputs for all model performances."
   ]
  },
  {
   "attachments": {},
   "cell_type": "markdown",
   "metadata": {},
   "source": [
    "## Scenario 1"
   ]
  },
  {
   "cell_type": "code",
   "execution_count": 1,
   "metadata": {},
   "outputs": [
    {
     "name": "stdout",
     "output_type": "stream",
     "text": [
      "Reuslt of k_fold cross validation (PCA): k=4, acc=0.8467, precision=0.4233, recall=0.5, f1=0.4583\n",
      "Standard deviation for each metric: acc=0.034, precision=0.017, recall=0.0, f1=0.0099\n"
     ]
    }
   ],
   "source": [
    "import numpy as np\n",
    "\n",
    "rep_name='PCA'\n",
    "k=4\n",
    "\n",
    "acc_list = [0.8333333333333334,0.9,0.8,0.8666666666666667,0.8333333333333334]\n",
    "precision_score_list = [0.4166666666666667,0.45,0.4,0.43333333333333335,0.4166666666666667]\n",
    "recall_score_list = [0.5,0.5,0.5,0.5,0.5]\n",
    "f1_score_list = [0.45454545454545453,0.4736842105263158,0.4444444444444445,0.4642857142857143,0.45454545454545453]\n",
    "\n",
    "print(f\"Reuslt of k_fold cross validation ({rep_name}): k={k}, acc={round(np.mean(acc_list), 4)}, precision={round(np.mean(precision_score_list), 4)}, recall={round(np.mean(recall_score_list), 4)}, f1={round(np.mean(f1_score_list), 4)}\")\n",
    "# Standard deviation for each metric\n",
    "print(f\"Standard deviation for each metric: acc={round(np.std(acc_list), 4)}, precision={round(np.std(precision_score_list), 4)}, recall={round(np.std(recall_score_list), 4)}, f1={round(np.std(f1_score_list), 4)}\")"
   ]
  },
  {
   "cell_type": "code",
   "execution_count": 3,
   "metadata": {},
   "outputs": [
    {
     "name": "stdout",
     "output_type": "stream",
     "text": [
      "Reuslt of k_fold cross validation (UMAP): k=4, acc=0.56, precision=0.5058, recall=0.6541, f1=0.4887\n",
      "Standard deviation for each metric: acc=0.2195, precision=0.215, recall=0.0982, f1=0.1818\n"
     ]
    }
   ],
   "source": [
    "import numpy as np\n",
    "\n",
    "rep_name='UMAP'\n",
    "k=4\n",
    "\n",
    "acc_list = [0.5666666666666667,0.8333333333333334,0.5666666666666667,0.6666666666666666,0.16666666666666666]\n",
    "precision_score_list = [0.5446428571428571,0.6458333333333334,0.6578947368421053,0.5972222222222222,0.08333333333333333]\n",
    "recall_score_list = [0.5800000000000001,0.7592592592592593,0.7291666666666666,0.7019230769230769,0.5]\n",
    "f1_score_list = [0.4993581514762516,0.673202614379085,0.5542857142857143,0.5738636363636364,0.14285714285714285]\n",
    "\n",
    "print(f\"Reuslt of k_fold cross validation ({rep_name}): k={k}, acc={round(np.mean(acc_list), 4)}, precision={round(np.mean(precision_score_list), 4)}, recall={round(np.mean(recall_score_list), 4)}, f1={round(np.mean(f1_score_list), 4)}\")\n",
    "print(f\"Standard deviation for each metric: acc={round(np.std(acc_list), 4)}, precision={round(np.std(precision_score_list), 4)}, recall={round(np.std(recall_score_list), 4)}, f1={round(np.std(f1_score_list), 4)}\")"
   ]
  },
  {
   "attachments": {},
   "cell_type": "markdown",
   "metadata": {},
   "source": [
    "## Scenario 2.1"
   ]
  },
  {
   "cell_type": "code",
   "execution_count": 1,
   "metadata": {},
   "outputs": [
    {
     "name": "stdout",
     "output_type": "stream",
     "text": [
      "Reuslt of k_fold cross validation (PCA): k=4, acc=0.8133, precision=0.7366, recall=0.7185, f1=0.5647\n",
      "Standard deviation for each metric: acc=0.0618, precision=0.1266, recall=0.1371, f1=0.0836\n"
     ]
    }
   ],
   "source": [
    "import numpy as np\n",
    "\n",
    "rep_name='PCA'\n",
    "k=4\n",
    "\n",
    "acc_list = [0.8, 0.9, 0.7666666666666667, 0.8666666666666667, 0.7333333333333333]\n",
    "precision_score_list = [0.8, 0.9, 0.7666666666666667, 0.6964285714285714, 0.52]\n",
    "recall_score_list = [0.8, 0.9, 0.7666666666666667, 0.6057692307692308, 0.52]\n",
    "f1_score_list = [0.5673076923076923, 0.6727272727272727, 0.43396226415094336, 0.6296296296296297, 0.5199999999999999]\n",
    "\n",
    "print(f\"Reuslt of k_fold cross validation ({rep_name}): k={k}, acc={round(np.mean(acc_list), 4)}, precision={round(np.mean(precision_score_list), 4)}, recall={round(np.mean(recall_score_list), 4)}, f1={round(np.mean(f1_score_list), 4)}\")\n",
    "# Standard deviation for each metric\n",
    "print(f\"Standard deviation for each metric: acc={round(np.std(acc_list), 4)}, precision={round(np.std(precision_score_list), 4)}, recall={round(np.std(recall_score_list), 4)}, f1={round(np.std(f1_score_list), 4)}\")"
   ]
  },
  {
   "cell_type": "code",
   "execution_count": 2,
   "metadata": {},
   "outputs": [
    {
     "name": "stdout",
     "output_type": "stream",
     "text": [
      "Reuslt of k_fold cross validation (UMAP): k=4, acc=0.8533, precision=0.8533, recall=0.8533, f1=0.5985\n",
      "Standard deviation for each metric: acc=0.0452, precision=0.0452, recall=0.0452, f1=0.0846\n"
     ]
    }
   ],
   "source": [
    "import numpy as np\n",
    "\n",
    "rep_name='UMAP'\n",
    "k=4\n",
    "\n",
    "acc_list = [0.8, 0.9, 0.8666666666666667, 0.9, 0.8]\n",
    "precision_score_list = [0.8, 0.9, 0.8666666666666667, 0.9, 0.8]\n",
    "recall_score_list = [0.8, 0.9, 0.8666666666666667, 0.9, 0.8]\n",
    "f1_score_list = [0.5673076923076923, 0.4736842105263158, 0.7115384615384615, 0.6727272727272727, 0.5673076923076923]\n",
    "\n",
    "print(f\"Reuslt of k_fold cross validation ({rep_name}): k={k}, acc={round(np.mean(acc_list), 4)}, precision={round(np.mean(precision_score_list), 4)}, recall={round(np.mean(recall_score_list), 4)}, f1={round(np.mean(f1_score_list), 4)}\")\n",
    "print(f\"Standard deviation for each metric: acc={round(np.std(acc_list), 4)}, precision={round(np.std(precision_score_list), 4)}, recall={round(np.std(recall_score_list), 4)}, f1={round(np.std(f1_score_list), 4)}\")"
   ]
  },
  {
   "attachments": {},
   "cell_type": "markdown",
   "metadata": {},
   "source": [
    "<s>## Scenario 2.2\n",
    "\n",
    "Summing distance method (not used)</s>"
   ]
  },
  {
   "cell_type": "code",
   "execution_count": 3,
   "metadata": {},
   "outputs": [
    {
     "name": "stdout",
     "output_type": "stream",
     "text": [
      "Reuslt of k_fold cross validation (PCA): k=4, acc=0.8467, precision=0.4233, recall=0.5, f1=0.4583\n",
      "Standard deviation for each metric: acc=0.034, precision=0.017, recall=0.0, f1=0.0099\n"
     ]
    }
   ],
   "source": [
    "import numpy as np\n",
    "\n",
    "rep_name='PCA'\n",
    "k=4\n",
    "\n",
    "acc_list = [0.8333333333333334,0.9,0.8,0.8666666666666667,0.8333333333333334]\n",
    "precision_score_list = [0.4166666666666667,0.45,0.4,0.43333333333333335,0.4166666666666667]\n",
    "recall_score_list = [0.5,0.5,0.5,0.5,0.5]\n",
    "f1_score_list = [0.45454545454545453,0.4736842105263158,0.4444444444444445,0.4642857142857143,0.45454545454545453]\n",
    "\n",
    "print(f\"Reuslt of k_fold cross validation ({rep_name}): k={k}, acc={round(np.mean(acc_list), 4)}, precision={round(np.mean(precision_score_list), 4)}, recall={round(np.mean(recall_score_list), 4)}, f1={round(np.mean(f1_score_list), 4)}\")\n",
    "print(f\"Standard deviation for each metric: acc={round(np.std(acc_list), 4)}, precision={round(np.std(precision_score_list), 4)}, recall={round(np.std(recall_score_list), 4)}, f1={round(np.std(f1_score_list), 4)}\")"
   ]
  },
  {
   "cell_type": "code",
   "execution_count": 4,
   "metadata": {},
   "outputs": [
    {
     "name": "stdout",
     "output_type": "stream",
     "text": [
      "Reuslt of k_fold cross validation (UMAP): k=4, acc=0.8467, precision=0.4233, recall=0.5, f1=0.4583\n",
      "Standard deviation for each metric: acc=0.034, precision=0.017, recall=0.0, f1=0.0099\n"
     ]
    }
   ],
   "source": [
    "import numpy as np\n",
    "\n",
    "rep_name='UMAP'\n",
    "k=4\n",
    "\n",
    "acc_list = [0.8333333333333334, 0.9, 0.8, 0.8666666666666667, 0.8333333333333334]\n",
    "precision_score_list = [0.4166666666666667, 0.45, 0.4, 0.43333333333333335, 0.4166666666666667]\n",
    "recall_score_list = [0.5, 0.5, 0.5, 0.5, 0.5]\n",
    "f1_score_list = [0.45454545454545453, 0.4736842105263158, 0.4444444444444445, 0.4642857142857143, 0.45454545454545453]\n",
    "\n",
    "print(f\"Reuslt of k_fold cross validation ({rep_name}): k={k}, acc={round(np.mean(acc_list), 4)}, precision={round(np.mean(precision_score_list), 4)}, recall={round(np.mean(recall_score_list), 4)}, f1={round(np.mean(f1_score_list), 4)}\")\n",
    "print(f\"Standard deviation for each metric: acc={round(np.std(acc_list), 4)}, precision={round(np.std(precision_score_list), 4)}, recall={round(np.std(recall_score_list), 4)}, f1={round(np.std(f1_score_list), 4)}\")"
   ]
  },
  {
   "attachments": {},
   "cell_type": "markdown",
   "metadata": {},
   "source": [
    "## Scenario 2.3"
   ]
  },
  {
   "attachments": {},
   "cell_type": "markdown",
   "metadata": {},
   "source": [
    "Method\n",
    "Get centroids of each sample's cluster (covid and non-covid samples). \n",
    "When we get a new sample, we compute a centroid of each new sample. \n",
    "And compare them with those existing samples' centroids, get the nearest centroids, \n",
    "and determine whether the new sample is covid or non_covid based on \n",
    "the nearest sample's centroid."
   ]
  },
  {
   "cell_type": "code",
   "execution_count": 5,
   "metadata": {},
   "outputs": [
    {
     "name": "stdout",
     "output_type": "stream",
     "text": [
      "Reuslt of k_fold cross validation (PCA): k=4, acc=0.7067, precision=0.4763, recall=0.4767, f1=0.4742\n",
      "Standard deviation for each metric: acc=0.0249, precision=0.0837, recall=0.0981, f1=0.0881\n"
     ]
    }
   ],
   "source": [
    "import numpy as np\n",
    "\n",
    "rep_name='PCA'\n",
    "k=4\n",
    "\n",
    "acc_list = [0.6666666666666666, 0.7, 0.7333333333333333, 0.7333333333333333, 0.7]\n",
    "precision_score_list = [0.4,0.4375, 0.6193181818181819, 0.5208333333333334, 0.40384615384615385]\n",
    "recall_score_list = [0.4, 0.3888888888888889, 0.6458333333333333, 0.5288461538461539, 0.42]\n",
    "f1_score_list = [0.4000000000000001, 0.411764705882353, 0.6273291925465838, 0.52, 0.4117647058823529]\n",
    "\n",
    "print(f\"Reuslt of k_fold cross validation ({rep_name}): k={k}, acc={round(np.mean(acc_list), 4)}, precision={round(np.mean(precision_score_list), 4)}, recall={round(np.mean(recall_score_list), 4)}, f1={round(np.mean(f1_score_list), 4)}\")\n",
    "print(f\"Standard deviation for each metric: acc={round(np.std(acc_list), 4)}, precision={round(np.std(precision_score_list), 4)}, recall={round(np.std(recall_score_list), 4)}, f1={round(np.std(f1_score_list), 4)}\")"
   ]
  },
  {
   "cell_type": "code",
   "execution_count": 6,
   "metadata": {},
   "outputs": [
    {
     "name": "stdout",
     "output_type": "stream",
     "text": [
      "Reuslt of k_fold cross validation (UMAP): k=4, acc=0.7467, precision=0.5632, recall=0.5824, f1=0.5653\n",
      "Standard deviation for each metric: acc=0.0618, precision=0.0999, recall=0.0958, f1=0.0985\n"
     ]
    }
   ],
   "source": [
    "import numpy as np\n",
    "\n",
    "rep_name='UMAP'\n",
    "k=4\n",
    "\n",
    "acc_list = [0.7333333333333333, 0.7333333333333333, 0.7, 0.8666666666666667, 0.7]\n",
    "precision_score_list = [0.577639751552795, 0.5279503105590062, 0.5952380952380952, 0.7115384615384616, 0.40384615384615385]\n",
    "recall_score_list = [0.6000000000000001, 0.5555555555555556, 0.625, 0.7115384615384616, 0.42]\n",
    "f1_score_list = [0.5833333333333333, 0.52, 0.6, 0.7115384615384616, 0.4117647058823529]\n",
    "\n",
    "print(f\"Reuslt of k_fold cross validation ({rep_name}): k={k}, acc={round(np.mean(acc_list), 4)}, precision={round(np.mean(precision_score_list), 4)}, recall={round(np.mean(recall_score_list), 4)}, f1={round(np.mean(f1_score_list), 4)}\")\n",
    "print(f\"Standard deviation for each metric: acc={round(np.std(acc_list), 4)}, precision={round(np.std(precision_score_list), 4)}, recall={round(np.std(recall_score_list), 4)}, f1={round(np.std(f1_score_list), 4)}\")"
   ]
  },
  {
   "attachments": {},
   "cell_type": "markdown",
   "metadata": {},
   "source": [
    "## Scenario 2.4 with 3 nearest neighbors"
   ]
  },
  {
   "cell_type": "code",
   "execution_count": 7,
   "metadata": {},
   "outputs": [
    {
     "name": "stdout",
     "output_type": "stream",
     "text": [
      "Reuslt of k_fold cross validation (PCA): k=4, acc=0.7667, precision=0.4951, recall=0.5196, f1=0.5047\n",
      "Standard deviation for each metric: acc=0.0298, precision=0.0779, recall=0.0602, f1=0.0672\n"
     ]
    }
   ],
   "source": [
    "import numpy as np\n",
    "\n",
    "rep_name='PCA'\n",
    "k=4\n",
    "\n",
    "acc_list = [0.7666666666666667, 0.8, 0.7333333333333333, 0.8, 0.7333333333333333]\n",
    "precision_score_list = [0.5480769230769231, 0.56, 0.39285714285714285, 0.5673076923076923, 0.4074074074074074]\n",
    "recall_score_list = [0.54, 0.5925925925925926, 0.4583333333333333, 0.5673076923076923, 0.44]\n",
    "f1_score_list = [0.5424836601307189, 0.5673076923076923, 0.4230769230769231, 0.5673076923076923, 0.4230769230769231]\n",
    "\n",
    "print(f\"Reuslt of k_fold cross validation ({rep_name}): k={k}, acc={round(np.mean(acc_list), 4)}, precision={round(np.mean(precision_score_list), 4)}, recall={round(np.mean(recall_score_list), 4)}, f1={round(np.mean(f1_score_list), 4)}\")\n",
    "print(f\"Standard deviation for each metric: acc={round(np.std(acc_list), 4)}, precision={round(np.std(precision_score_list), 4)}, recall={round(np.std(recall_score_list), 4)}, f1={round(np.std(f1_score_list), 4)}\")"
   ]
  },
  {
   "cell_type": "code",
   "execution_count": 8,
   "metadata": {},
   "outputs": [
    {
     "name": "stdout",
     "output_type": "stream",
     "text": [
      "Reuslt of k_fold cross validation (PCA): k=4, acc=0.78, precision=0.4935, recall=0.5113, f1=0.4954\n",
      "Standard deviation for each metric: acc=0.0499, precision=0.1183, recall=0.0722, f1=0.0865\n"
     ]
    }
   ],
   "source": [
    "import numpy as np\n",
    "\n",
    "rep_name='PCA'\n",
    "k=4\n",
    "\n",
    "acc_list = [0.7333333333333333, 0.8, 0.7333333333333333, 0.8666666666666667, 0.7666666666666667]\n",
    "precision_score_list = [0.4074074074074074, 0.56, 0.39285714285714285, 0.6964285714285714, 0.4107142857142857]\n",
    "recall_score_list = [0.44, 0.5925925925925926, 0.4583333333333333, 0.6057692307692308, 0.46]\n",
    "f1_score_list = [0.4230769230769231, 0.5673076923076923, 0.4230769230769231, 0.6296296296296297, 0.43396226415094336]\n",
    "\n",
    "print(f\"Reuslt of k_fold cross validation ({rep_name}): k={k}, acc={round(np.mean(acc_list), 4)}, precision={round(np.mean(precision_score_list), 4)}, recall={round(np.mean(recall_score_list), 4)}, f1={round(np.mean(f1_score_list), 4)}\")\n",
    "print(f\"Standard deviation for each metric: acc={round(np.std(acc_list), 4)}, precision={round(np.std(precision_score_list), 4)}, recall={round(np.std(recall_score_list), 4)}, f1={round(np.std(f1_score_list), 4)}\")"
   ]
  },
  {
   "attachments": {},
   "cell_type": "markdown",
   "metadata": {},
   "source": [
    "## Scenario 2.4 with 5 nearest neighbors"
   ]
  },
  {
   "cell_type": "code",
   "execution_count": 9,
   "metadata": {},
   "outputs": [
    {
     "name": "stdout",
     "output_type": "stream",
     "text": [
      "Reuslt of k_fold cross validation (PCA): k=4, acc=0.7933, precision=0.5743, recall=0.5478, f1=0.5471\n",
      "Standard deviation for each metric: acc=0.0533, precision=0.1057, recall=0.0612, f1=0.0717\n"
     ]
    }
   ],
   "source": [
    "import numpy as np\n",
    "\n",
    "rep_name='PCA'\n",
    "k=4\n",
    "\n",
    "acc_list = [0.8333333333333334, 0.8, 0.7333333333333333, 0.8666666666666667, 0.7333333333333333]\n",
    "precision_score_list = [0.6785714285714286, 0.56, 0.5288461538461539, 0.6964285714285714, 0.4074074074074074]\n",
    "recall_score_list = [0.58, 0.5925925925925926, 0.5208333333333334, 0.6057692307692308, 0.44]\n",
    "f1_score_list = [0.5956873315363881, 0.5673076923076923, 0.52, 0.6296296296296297, 0.4230769230769231]\n",
    "\n",
    "print(f\"Reuslt of k_fold cross validation ({rep_name}): k={k}, acc={round(np.mean(acc_list), 4)}, precision={round(np.mean(precision_score_list), 4)}, recall={round(np.mean(recall_score_list), 4)}, f1={round(np.mean(f1_score_list), 4)}\")\n",
    "print(f\"Standard deviation for each metric: acc={round(np.std(acc_list), 4)}, precision={round(np.std(precision_score_list), 4)}, recall={round(np.std(recall_score_list), 4)}, f1={round(np.std(f1_score_list), 4)}\")"
   ]
  },
  {
   "cell_type": "code",
   "execution_count": 4,
   "metadata": {},
   "outputs": [
    {
     "name": "stdout",
     "output_type": "stream",
     "text": [
      "Reuslt of k_fold cross validation (UMAP): k=4, acc=0.8067, precision=0.5008, recall=0.5272, f1=0.5075\n",
      "Standard deviation for each metric: acc=0.0389, precision=0.1201, recall=0.0667, f1=0.0866\n"
     ]
    }
   ],
   "source": [
    "import numpy as np\n",
    "\n",
    "rep_name='UMAP'\n",
    "k=4\n",
    "\n",
    "acc_list = [0.8, 0.8333333333333334, 0.7666666666666667, 0.8666666666666667, 0.7666666666666667]\n",
    "precision_score_list = [0.41379310344827586, 0.5865384615384616, 0.39655172413793105, 0.6964285714285714, 0.4107142857142857]\n",
    "recall_score_list = [0.48, 0.611111111111111, 0.4791666666666667, 0.6057692307692308, 0.46]\n",
    "f1_score_list = [0.4444444444444445, 0.5956873315363882, 0.43396226415094336, 0.6296296296296297, 0.43396226415094336]\n",
    "\n",
    "print(f\"Reuslt of k_fold cross validation ({rep_name}): k={k}, acc={round(np.mean(acc_list), 4)}, precision={round(np.mean(precision_score_list), 4)}, recall={round(np.mean(recall_score_list), 4)}, f1={round(np.mean(f1_score_list), 4)}\")\n",
    "print(f\"Standard deviation for each metric: acc={round(np.std(acc_list), 4)}, precision={round(np.std(precision_score_list), 4)}, recall={round(np.std(recall_score_list), 4)}, f1={round(np.std(f1_score_list), 4)}\")"
   ]
  },
  {
   "attachments": {},
   "cell_type": "markdown",
   "metadata": {},
   "source": [
    "## Scenario 3.1"
   ]
  },
  {
   "cell_type": "code",
   "execution_count": 10,
   "metadata": {},
   "outputs": [
    {
     "name": "stdout",
     "output_type": "stream",
     "text": [
      "Reuslt of k_fold cross validation (PCA): k=4, acc=0.8133, precision=0.5813, recall=0.5837, f1=0.5416\n",
      "Standard deviation for each metric: acc=0.098, precision=0.2161, recall=0.1153, f1=0.1132\n"
     ]
    }
   ],
   "source": [
    "import numpy as np\n",
    "\n",
    "rep_name='PCA'\n",
    "k=4\n",
    "\n",
    "acc_list = [0.8333333333333334, 0.9333333333333333, 0.6333333333333333, 0.8333333333333334, 0.8333333333333334]\n",
    "precision_score_list = [0.4166666666666667, 0.9655172413793103, 0.6764705882352942, 0.43103448275862066, 0.4166666666666667]\n",
    "recall_score_list = [0.5, 0.6666666666666666, 0.7708333333333333, 0.4807692307692308, 0.5]\n",
    "f1_score_list = [0.45454545454545453, 0.7321428571428572, 0.6122209165687427, 0.45454545454545453, 0.45454545454545453]\n",
    "\n",
    "print(f\"Reuslt of k_fold cross validation ({rep_name}): k={k}, acc={round(np.mean(acc_list), 4)}, precision={round(np.mean(precision_score_list), 4)}, recall={round(np.mean(recall_score_list), 4)}, f1={round(np.mean(f1_score_list), 4)}\")\n",
    "print(f\"Standard deviation for each metric: acc={round(np.std(acc_list), 4)}, precision={round(np.std(precision_score_list), 4)}, recall={round(np.std(recall_score_list), 4)}, f1={round(np.std(f1_score_list), 4)}\")"
   ]
  },
  {
   "cell_type": "code",
   "execution_count": 5,
   "metadata": {},
   "outputs": [
    {
     "name": "stdout",
     "output_type": "stream",
     "text": [
      "Reuslt of k_fold cross validation (UMAP): k=4, acc=0.72, precision=0.5873, recall=0.6655, f1=0.5615\n",
      "Standard deviation for each metric: acc=0.1204, precision=0.1003, recall=0.1231, f1=0.094\n"
     ]
    }
   ],
   "source": [
    "import numpy as np\n",
    "\n",
    "rep_name='UMAP'\n",
    "k=4\n",
    "\n",
    "acc_list = [0.8, 0.8666666666666667, 0.7666666666666667, 0.5333333333333333, 0.6333333333333333]\n",
    "precision_score_list = [0.5925925925925926, 0.6799999999999999, 0.39655172413793105, 0.6111111111111112, 0.65625]\n",
    "recall_score_list = [0.56, 0.7777777777777777, 0.4791666666666667, 0.7307692307692308, 0.78]\n",
    "f1_score_list = [0.5673076923076923, 0.7115384615384615, 0.43396226415094336, 0.4976076555023923, 0.5970695970695971]\n",
    "\n",
    "print(f\"Reuslt of k_fold cross validation ({rep_name}): k={k}, acc={round(np.mean(acc_list), 4)}, precision={round(np.mean(precision_score_list), 4)}, recall={round(np.mean(recall_score_list), 4)}, f1={round(np.mean(f1_score_list), 4)}\")\n",
    "print(f\"Standard deviation for each metric: acc={round(np.std(acc_list), 4)}, precision={round(np.std(precision_score_list), 4)}, recall={round(np.std(recall_score_list), 4)}, f1={round(np.std(f1_score_list), 4)}\")"
   ]
  },
  {
   "attachments": {},
   "cell_type": "markdown",
   "metadata": {},
   "source": [
    "## Scenario 3.2"
   ]
  },
  {
   "cell_type": "code",
   "execution_count": 11,
   "metadata": {},
   "outputs": [
    {
     "name": "stdout",
     "output_type": "stream",
     "text": [
      "Reuslt of k_fold cross validation (PCA): k=4, acc=0.8467, precision=0.4233, recall=0.5, f1=0.4583\n",
      "Standard deviation for each metric: acc=0.034, precision=0.017, recall=0.0, f1=0.0099\n"
     ]
    }
   ],
   "source": [
    "import numpy as np\n",
    "\n",
    "rep_name='PCA'\n",
    "k=4\n",
    "\n",
    "acc_list = [0.8333333333333334, 0.9, 0.8, 0.8666666666666667, 0.8333333333333334]\n",
    "precision_score_list = [0.4166666666666667, 0.45, 0.4, 0.43333333333333335, 0.4166666666666667]\n",
    "recall_score_list = [0.5, 0.5, 0.5, 0.5, 0.5]\n",
    "f1_score_list = [0.45454545454545453, 0.4736842105263158, 0.4444444444444445, 0.4642857142857143, 0.45454545454545453]\n",
    "\n",
    "print(f\"Reuslt of k_fold cross validation ({rep_name}): k={k}, acc={round(np.mean(acc_list), 4)}, precision={round(np.mean(precision_score_list), 4)}, recall={round(np.mean(recall_score_list), 4)}, f1={round(np.mean(f1_score_list), 4)}\")\n",
    "print(f\"Standard deviation for each metric: acc={round(np.std(acc_list), 4)}, precision={round(np.std(precision_score_list), 4)}, recall={round(np.std(recall_score_list), 4)}, f1={round(np.std(f1_score_list), 4)}\")"
   ]
  },
  {
   "cell_type": "code",
   "execution_count": 12,
   "metadata": {},
   "outputs": [
    {
     "name": "stdout",
     "output_type": "stream",
     "text": [
      "Reuslt of k_fold cross validation (UMAP): k=4, acc=0.5933, precision=0.5854, recall=0.6727, f1=0.4897\n",
      "Standard deviation for each metric: acc=0.1467, precision=0.077, recall=0.096, f1=0.0353\n"
     ]
    }
   ],
   "source": [
    "import numpy as np\n",
    "\n",
    "rep_name='UMAP'\n",
    "k=4\n",
    "\n",
    "acc_list = [0.5333333333333333, 0.6, 0.43333333333333335, 0.8666666666666667, 0.5333333333333333]\n",
    "precision_score_list = [0.631578947368421, 0.6, 0.6304347826086957, 0.43333333333333335, 0.631578947368421]\n",
    "recall_score_list = [0.72, 0.7777777777777778, 0.6458333333333334, 0.5,   0.72]\n",
    "f1_score_list = [0.513888888888889, 0.5238095238095238, 0.43270300333704115, 0.4642857142857143, 0.513888888888889]\n",
    "\n",
    "print(f\"Reuslt of k_fold cross validation ({rep_name}): k={k}, acc={round(np.mean(acc_list), 4)}, precision={round(np.mean(precision_score_list), 4)}, recall={round(np.mean(recall_score_list), 4)}, f1={round(np.mean(f1_score_list), 4)}\")\n",
    "print(f\"Standard deviation for each metric: acc={round(np.std(acc_list), 4)}, precision={round(np.std(precision_score_list), 4)}, recall={round(np.std(recall_score_list), 4)}, f1={round(np.std(f1_score_list), 4)}\")"
   ]
  }
 ],
 "metadata": {
  "kernelspec": {
   "display_name": "scanpy_tutorial",
   "language": "python",
   "name": "python3"
  },
  "language_info": {
   "codemirror_mode": {
    "name": "ipython",
    "version": 3
   },
   "file_extension": ".py",
   "mimetype": "text/x-python",
   "name": "python",
   "nbconvert_exporter": "python",
   "pygments_lexer": "ipython3",
   "version": "3.9.13"
  },
  "orig_nbformat": 4
 },
 "nbformat": 4,
 "nbformat_minor": 2
}
